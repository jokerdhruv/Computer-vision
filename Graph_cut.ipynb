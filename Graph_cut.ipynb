{
 "cells": [
  {
   "cell_type": "code",
   "execution_count": 9,
   "metadata": {},
   "outputs": [
    {
     "name": "stdout",
     "output_type": "stream",
     "text": [
      "Collecting scikit-image\n",
      "  Downloading scikit_image-0.24.0-cp312-cp312-win_amd64.whl.metadata (14 kB)\n",
      "Requirement already satisfied: numpy>=1.23 in c:\\users\\dhruv\\appdata\\local\\programs\\python\\python312\\lib\\site-packages (from scikit-image) (1.26.4)\n",
      "Requirement already satisfied: scipy>=1.9 in c:\\users\\dhruv\\appdata\\local\\programs\\python\\python312\\lib\\site-packages (from scikit-image) (1.13.1)\n",
      "Requirement already satisfied: networkx>=2.8 in c:\\users\\dhruv\\appdata\\local\\programs\\python\\python312\\lib\\site-packages (from scikit-image) (3.3)\n",
      "Requirement already satisfied: pillow>=9.1 in c:\\users\\dhruv\\appdata\\local\\programs\\python\\python312\\lib\\site-packages (from scikit-image) (10.4.0)\n",
      "Collecting imageio>=2.33 (from scikit-image)\n",
      "  Downloading imageio-2.35.1-py3-none-any.whl.metadata (4.9 kB)\n",
      "Collecting tifffile>=2022.8.12 (from scikit-image)\n",
      "  Downloading tifffile-2024.9.20-py3-none-any.whl.metadata (32 kB)\n",
      "Requirement already satisfied: packaging>=21 in c:\\users\\dhruv\\appdata\\roaming\\python\\python312\\site-packages (from scikit-image) (24.1)\n",
      "Collecting lazy-loader>=0.4 (from scikit-image)\n",
      "  Downloading lazy_loader-0.4-py3-none-any.whl.metadata (7.6 kB)\n",
      "Downloading scikit_image-0.24.0-cp312-cp312-win_amd64.whl (12.9 MB)\n",
      "   ---------------------------------------- 0.0/12.9 MB ? eta -:--:--\n",
      "   ---------------------------------------- 0.1/12.9 MB 2.3 MB/s eta 0:00:06\n",
      "    --------------------------------------- 0.3/12.9 MB 3.2 MB/s eta 0:00:05\n",
      "   -- ------------------------------------- 0.7/12.9 MB 5.2 MB/s eta 0:00:03\n",
      "   ---- ----------------------------------- 1.5/12.9 MB 8.6 MB/s eta 0:00:02\n",
      "   -------- ------------------------------- 2.9/12.9 MB 13.1 MB/s eta 0:00:01\n",
      "   ------------ --------------------------- 4.0/12.9 MB 15.8 MB/s eta 0:00:01\n",
      "   ------------ --------------------------- 4.0/12.9 MB 13.3 MB/s eta 0:00:01\n",
      "   ------------------- -------------------- 6.4/12.9 MB 17.8 MB/s eta 0:00:01\n",
      "   --------------------- ------------------ 7.1/12.9 MB 17.5 MB/s eta 0:00:01\n",
      "   ------------------------- -------------- 8.4/12.9 MB 18.5 MB/s eta 0:00:01\n",
      "   ----------------------------------- ---- 11.5/12.9 MB 31.2 MB/s eta 0:00:01\n",
      "   -------------------------------------- - 12.5/12.9 MB 31.2 MB/s eta 0:00:01\n",
      "   ---------------------------------------  12.9/12.9 MB 28.5 MB/s eta 0:00:01\n",
      "   ---------------------------------------- 12.9/12.9 MB 26.2 MB/s eta 0:00:00\n",
      "Downloading imageio-2.35.1-py3-none-any.whl (315 kB)\n",
      "   ---------------------------------------- 0.0/315.4 kB ? eta -:--:--\n",
      "   ---------------------------------------- 0.0/315.4 kB ? eta -:--:--\n",
      "   --------------------------------------- 315.4/315.4 kB 19.1 MB/s eta 0:00:00\n",
      "Downloading lazy_loader-0.4-py3-none-any.whl (12 kB)\n",
      "Downloading tifffile-2024.9.20-py3-none-any.whl (228 kB)\n",
      "   ---------------------------------------- 0.0/228.2 kB ? eta -:--:--\n",
      "   --------------------------------------- 228.2/228.2 kB 13.6 MB/s eta 0:00:00\n",
      "Installing collected packages: tifffile, lazy-loader, imageio, scikit-image\n",
      "Successfully installed imageio-2.35.1 lazy-loader-0.4 scikit-image-0.24.0 tifffile-2024.9.20\n",
      "Note: you may need to restart the kernel to use updated packages.\n"
     ]
    },
    {
     "name": "stderr",
     "output_type": "stream",
     "text": [
      "\n",
      "[notice] A new release of pip is available: 24.0 -> 24.2\n",
      "[notice] To update, run: python.exe -m pip install --upgrade pip\n"
     ]
    }
   ],
   "source": [
    "pip install scikit-image\n"
   ]
  },
  {
   "cell_type": "code",
   "execution_count": 10,
   "metadata": {},
   "outputs": [],
   "source": [
    "import cv2\n",
    "import numpy as np\n",
    "import networkx as nx\n",
    "from skimage import img_as_float\n",
    "from skimage.color import rgb2gray\n",
    "from networkx.algorithms.flow import minimum_cut\n",
    "\n",
    "# Step 1: Load the image and initialize\n",
    "image = cv2.imread('Rename.jpg')\n",
    "gray_image = img_as_float(rgb2gray(image))  # Convert to grayscale for simplicity\n",
    "h, w = gray_image.shape\n",
    "\n",
    "# Initialize a graph\n",
    "G = nx.Graph()\n",
    "\n",
    "# Step 2: Initialize neighborhood pixels and calculate dissimilarity factors\n",
    "def pixel_id(x, y):\n",
    "    return x * w + y\n",
    "\n",
    "# Add nodes and edges for pixel neighborhood\n",
    "for i in range(h):\n",
    "    for j in range(w):\n",
    "        if i < h - 1:\n",
    "            diff_v = abs(gray_image[i, j] - gray_image[i + 1, j])\n",
    "            G.add_edge(pixel_id(i, j), pixel_id(i + 1, j), weight=diff_v)\n",
    "        if j < w - 1:\n",
    "            diff_h = abs(gray_image[i, j] - gray_image[i, j + 1])\n",
    "            G.add_edge(pixel_id(i, j), pixel_id(i, j + 1), weight=diff_h)\n",
    "\n",
    "# Step 3: Calculate sigma (standard deviation of pixel intensities)\n",
    "sigma = np.std(gray_image)\n",
    "\n",
    "# Step 4: Calculate weights (edge weights normalized by sigma)\n",
    "for u, v, data in G.edges(data=True):\n",
    "    data['weight'] = np.exp(-data['weight'] ** 2 / (2 * sigma ** 2))\n",
    "\n",
    "# Step 5: Perform min-cut operation (using an arbitrary source and sink node)\n",
    "source = pixel_id(0, 0)  # Assume the top-left corner as source\n",
    "sink = pixel_id(h - 1, w - 1)  # Assume the bottom-right corner as sink\n",
    "\n",
    "cut_value, partition = minimum_cut(G, source, sink, capacity='weight')\n",
    "\n",
    "# Get the nodes from one partition (foreground)\n",
    "reachable_nodes, non_reachable_nodes = partition\n",
    "\n",
    "# Create segmented output\n",
    "segmented_image = np.zeros((h, w))\n",
    "for node in reachable_nodes:\n",
    "    x = node // w\n",
    "    y = node % w\n",
    "    segmented_image[x, y] = gray_image[x, y]\n",
    "\n",
    "# Display results\n",
    "cv2.imshow('Original Image', image)\n",
    "cv2.imshow('Segmented Image', segmented_image)\n",
    "cv2.waitKey(0)\n",
    "cv2.destroyAllWindows()\n"
   ]
  }
 ],
 "metadata": {
  "kernelspec": {
   "display_name": "Python 3",
   "language": "python",
   "name": "python3"
  },
  "language_info": {
   "codemirror_mode": {
    "name": "ipython",
    "version": 3
   },
   "file_extension": ".py",
   "mimetype": "text/x-python",
   "name": "python",
   "nbconvert_exporter": "python",
   "pygments_lexer": "ipython3",
   "version": "3.12.2"
  }
 },
 "nbformat": 4,
 "nbformat_minor": 2
}
