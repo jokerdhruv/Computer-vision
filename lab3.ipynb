{
 "cells": [
  {
   "cell_type": "code",
   "execution_count": 1,
   "metadata": {},
   "outputs": [],
   "source": [
    "import cv2\n",
    "import numpy as np\n"
   ]
  },
  {
   "cell_type": "code",
   "execution_count": 2,
   "metadata": {},
   "outputs": [
    {
     "name": "stdout",
     "output_type": "stream",
     "text": [
      "Final Threshold: 124.88392226287687\n"
     ]
    },
    {
     "ename": "KeyboardInterrupt",
     "evalue": "",
     "output_type": "error",
     "traceback": [
      "\u001b[1;31m---------------------------------------------------------------------------\u001b[0m",
      "\u001b[1;31mKeyboardInterrupt\u001b[0m                         Traceback (most recent call last)",
      "Cell \u001b[1;32mIn[2], line 36\u001b[0m\n\u001b[0;32m     34\u001b[0m \u001b[38;5;28mprint\u001b[39m(\u001b[38;5;124mf\u001b[39m\u001b[38;5;124m\"\u001b[39m\u001b[38;5;124mFinal Threshold: \u001b[39m\u001b[38;5;132;01m{\u001b[39;00mfinal_threshold\u001b[38;5;132;01m}\u001b[39;00m\u001b[38;5;124m\"\u001b[39m)\n\u001b[0;32m     35\u001b[0m cv2\u001b[38;5;241m.\u001b[39mimshow(\u001b[38;5;124m'\u001b[39m\u001b[38;5;124mBinary Image\u001b[39m\u001b[38;5;124m'\u001b[39m, binary_image)\n\u001b[1;32m---> 36\u001b[0m \u001b[43mcv2\u001b[49m\u001b[38;5;241;43m.\u001b[39;49m\u001b[43mwaitKey\u001b[49m\u001b[43m(\u001b[49m\u001b[38;5;241;43m0\u001b[39;49m\u001b[43m)\u001b[49m\n\u001b[0;32m     37\u001b[0m cv2\u001b[38;5;241m.\u001b[39mdestroyAllWindows()\n",
      "\u001b[1;31mKeyboardInterrupt\u001b[0m: "
     ]
    }
   ],
   "source": [
    "image = cv2.imread('Lenna_(test_image).png', cv2.IMREAD_GRAYSCALE)\n",
    "def global_thresholding(image, initial_threshold=127, delta_T=1):\n",
    "    # Initialize the threshold\n",
    "    T = initial_threshold\n",
    "    diff = float('inf')  # Difference between old and new threshold\n",
    "\n",
    "    while diff > delta_T:\n",
    "        # Segment the image into two groups: G1 and G2\n",
    "        G1 = image[image > T]\n",
    "        G2 = image[image <= T]\n",
    "        \n",
    "        # Compute the average intensities m1 and m2 for G1 and G2\n",
    "        m1 = np.mean(G1) if len(G1) > 0 else 0  # Mean of G1\n",
    "        m2 = np.mean(G2) if len(G2) > 0 else 0  # Mean of G2\n",
    "        \n",
    "        # Compute a new threshold\n",
    "        new_T = 0.5 * (m1 + m2)\n",
    "        \n",
    "        # Update the difference between old and new threshold\n",
    "        diff = abs(T - new_T)\n",
    "        \n",
    "        # Update the threshold\n",
    "        T = new_T\n",
    "    \n",
    "    # Apply the final threshold to the image to get the binary result\n",
    "    _, binary_image = cv2.threshold(image, T, 255, cv2.THRESH_BINARY)\n",
    "    \n",
    "    return binary_image, T\n",
    "\n",
    "# Apply the algorithm\n",
    "binary_image, final_threshold = global_thresholding(image)\n",
    "\n",
    "# Display the results\n",
    "print(f\"Final Threshold: {final_threshold}\")\n",
    "cv2.imshow('Binary Image', image)\n",
    "cv2.waitKey(0)\n",
    "cv2.destroyAllWindows()"
   ]
  }
 ],
 "metadata": {
  "kernelspec": {
   "display_name": "Python 3",
   "language": "python",
   "name": "python3"
  },
  "language_info": {
   "codemirror_mode": {
    "name": "ipython",
    "version": 3
   },
   "file_extension": ".py",
   "mimetype": "text/x-python",
   "name": "python",
   "nbconvert_exporter": "python",
   "pygments_lexer": "ipython3",
   "version": "3.12.2"
  }
 },
 "nbformat": 4,
 "nbformat_minor": 2
}
