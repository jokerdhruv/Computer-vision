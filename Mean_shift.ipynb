{
 "cells": [
  {
   "cell_type": "code",
   "execution_count": null,
   "metadata": {},
   "outputs": [],
   "source": [
    "import numpy as np\n",
    "import cv2\n",
    "from sklearn.cluster import MeanShift, estimate_bandwidth\n",
    "import matplotlib.pyplot as plt\n",
    "\n",
    "# Step 1: Load the image\n",
    "image = cv2.imread('Lena.png')  # Replace with your image path\n",
    "image = cv2.cvtColor(image, cv2.COLOR_BGR2RGB)\n",
    "\n",
    "# Step 2: Reshape the image to a 2D array of pixels\n",
    "flat_image = np.reshape(image, [-1, 3])\n",
    "\n",
    "# Step 3: Estimate the bandwidth (window size W) for MeanShift\n",
    "bandwidth = estimate_bandwidth(flat_image, quantile=0.1, n_samples=500)\n",
    "\n",
    "# Step 4: Perform Mean Shift Clustering\n",
    "mean_shift = MeanShift(bandwidth=bandwidth, bin_seeding=True)\n",
    "mean_shift.fit(flat_image)\n",
    "\n",
    "# Step 5: Retrieve the labels and cluster centers\n",
    "labels = mean_shift.labels_\n",
    "cluster_centers = mean_shift.cluster_centers_\n",
    "\n",
    "# Step 6: Reshape the labels to match the original image\n",
    "segmented_image = np.reshape(labels, image.shape[:2])\n",
    "\n",
    "# Step 7: Display the segmented image\n",
    "plt.imshow(segmented_image, cmap='gray')\n",
    "plt.axis('off')\n",
    "plt.show()\n"
   ]
  }
 ],
 "metadata": {
  "language_info": {
   "name": "python"
  }
 },
 "nbformat": 4,
 "nbformat_minor": 2
}
